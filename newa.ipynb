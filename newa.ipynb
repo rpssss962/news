{
 "cells": [
  {
   "cell_type": "code",
   "execution_count": 6,
   "id": "560b1cd0",
   "metadata": {},
   "outputs": [],
   "source": [
    "\n",
    "import pandas as pd\n",
    "fake = pd.read_csv('data/Fake.csv')\n",
    "true = pd.read_csv('data/True.csv')\n",
    "fake[\"category\"]=1\n",
    "true[\"category\"]=0\n",
    "df=pd.concat([fake,true]).reset_index(drop=True)\n",
    "df= df.sample(frac=1).reset_index(drop=True)\n",
    "df=df[[\"text\",\"category\"]]\n",
    "blanks=[]\n",
    "for index,text in df[\"text\"].items():\n",
    "    if text.isspace():\n",
    "        blanks.append(index)\n",
    "len(blanks)\n",
    "df.drop(blanks,inplace=True)\n",
    "\n"
   ]
  },
  {
   "cell_type": "code",
   "execution_count": 3,
   "id": "7c1fc200",
   "metadata": {},
   "outputs": [
    {
     "name": "stderr",
     "output_type": "stream",
     "text": [
      "[nltk_data] Downloading package wordnet to C:\\Users\\Ria\n",
      "[nltk_data]     Pasricha\\AppData\\Roaming\\nltk_data...\n",
      "[nltk_data]   Package wordnet is already up-to-date!\n",
      "[nltk_data] Downloading package omw-1.4 to C:\\Users\\Ria\n",
      "[nltk_data]     Pasricha\\AppData\\Roaming\\nltk_data...\n",
      "[nltk_data]   Package omw-1.4 is already up-to-date!\n"
     ]
    }
   ],
   "source": [
    "import nltk\n",
    "\n",
    "# List of required NLTK packages\n",
    "packages = ['stopwords', 'wordnet', 'omw-1.4']\n",
    "\n",
    "for pkg in packages:\n",
    "    try:\n",
    "        nltk.data.find(f'corpora/{pkg}')\n",
    "    except LookupError:\n",
    "        nltk.download(pkg)\n"
   ]
  },
  {
   "cell_type": "code",
   "execution_count": 35,
   "id": "4d16d839",
   "metadata": {},
   "outputs": [
    {
     "name": "stdout",
     "output_type": "stream",
     "text": [
      "401\n"
     ]
    }
   ],
   "source": [
    "from nltk.corpus import stopwords\n",
    "from nltk.stem import WordNetLemmatizer\n",
    "import spacy\n",
    "import re\n",
    "nlp=spacy.load(\"en_core_web_sm\")\n",
    "lemma = WordNetLemmatizer()\n",
    "list1=nlp.Defaults.stop_words\n",
    "list2=stopwords.words('english')\n",
    "Stopwords=set(set(list1)|set(list2))\n",
    "print(len(Stopwords))\n"
   ]
  },
  {
   "cell_type": "code",
   "execution_count": 36,
   "id": "25fbf006",
   "metadata": {},
   "outputs": [],
   "source": [
    "def clean_text(text):\n",
    "    string=\"\"\n",
    "    text=text.lower()\n",
    "    text=re.sub(r\"i'm\",\"i am\",text)\n",
    "    text=re.sub(r\"he's\",\"he is\",text)\n",
    "    text=re.sub(r\"she's\",\"she is\",text)\n",
    "    text=re.sub(r\"that's\",\"that is\",text)\n",
    "    text=re.sub(r\"what's\",\"what is\",text)\n",
    "    text=re.sub(r\"where's\",\"where is\",text)\n",
    "    text=re.sub(r\"won't\",\"will not\",text)\n",
    "    text=re.sub(r\"can't\",\"cannot\",text)\n",
    "    text=re.sub(r\"\\'ll'\",\"will\",text)\n",
    "    text=re.sub(r\"\\'ve'\",\"have\",text)\n",
    "    text=re.sub(r\"\\'re'\",\"are\",text)\n",
    "    text=re.sub(r\"\\'d'\",\"would\",text)\n",
    "    text=re.sub(r\"[-()\\\"#!@$%^&*{}?.,:]\",\" \",text)\n",
    "    text=re.sub(r\"\\s+\",\" \",text)\n",
    "    text=re.sub('[^A-Za-z0-9]+',' ', text)\n",
    "    \n",
    "    for word in text.split():\n",
    "     if word not in Stopwords:\n",
    "         string+=lemma.lemmatize(word)+\" \"\n",
    "    return string"
   ]
  },
  {
   "cell_type": "code",
   "execution_count": 37,
   "id": "74e2dc54",
   "metadata": {},
   "outputs": [],
   "source": [
    "df[\"text\"]=df[\"text\"].apply(clean_text)\n"
   ]
  },
  {
   "cell_type": "code",
   "execution_count": 38,
   "id": "e1d7f527",
   "metadata": {},
   "outputs": [],
   "source": [
    "from sklearn.model_selection import train_test_split\n",
    "\n",
    "\n",
    "X=df[\"text\"] \n",
    "y=df[\"category\"] \n",
    "\n",
    "X_train, X_test, y_train, y_test = train_test_split(X, y, test_size=0.99, random_state=10)"
   ]
  },
  {
   "cell_type": "code",
   "execution_count": 39,
   "id": "f06c129c",
   "metadata": {},
   "outputs": [],
   "source": [
    "from sklearn.pipeline import Pipeline\n",
    "from sklearn.feature_extraction.text import TfidfVectorizer\n",
    "from sklearn.svm import LinearSVC\n",
    "from sklearn import metrics\n",
    "\n",
    "text_clf = Pipeline([\n",
    "    (\"tfidf\", TfidfVectorizer(\n",
    "        stop_words='english',\n",
    "        ngram_range=(1, 2),\n",
    "        max_df=0.9,\n",
    "        min_df=5,\n",
    "        max_features=10000\n",
    "    )),\n",
    "    (\"clf\", LinearSVC(class_weight='balanced'))\n",
    "])\n",
    "\n",
    "text_clf.fit(X_train, y_train)\n",
    "\n",
    "predictions = text_clf.predict(X_test)\n"
   ]
  },
  {
   "cell_type": "code",
   "execution_count": 40,
   "id": "3e854b13",
   "metadata": {},
   "outputs": [
    {
     "name": "stdout",
     "output_type": "stream",
     "text": [
      "              precision    recall  f1-score   support\n",
      "\n",
      "           0       0.95      0.96      0.95     21215\n",
      "           1       0.96      0.95      0.95     22610\n",
      "\n",
      "    accuracy                           0.95     43825\n",
      "   macro avg       0.95      0.95      0.95     43825\n",
      "weighted avg       0.95      0.95      0.95     43825\n",
      "\n",
      "0.9530176839703366\n"
     ]
    }
   ],
   "source": [
    "from sklearn import metrics\n",
    "print(metrics.classification_report(y_test,predictions))\n",
    "print(metrics.accuracy_score(y_test,predictions))\n"
   ]
  },
  {
   "cell_type": "code",
   "execution_count": 41,
   "id": "705ddfd0",
   "metadata": {},
   "outputs": [
    {
     "name": "stdout",
     "output_type": "stream",
     "text": [
      "choose url or article\n",
      "enter url\n"
     ]
    }
   ],
   "source": [
    "from newspaper import Article\n",
    "\n",
    "def get_text_from_url(url):\n",
    "    try:\n",
    "        article = Article(url)\n",
    "        article.download()\n",
    "        article.parse()\n",
    "        return article.text\n",
    "    except Exception as e:\n",
    "        print(f\"Error extracting article: {e}\")\n",
    "        return None\n",
    "a=input(print('choose url or article'))\n",
    "if(a=='article' or a=='Article'):\n",
    "   s=input(print('enter article'))\n",
    "   news_input = [s]\n",
    "elif(a=='url' or a=='URL'):\n",
    "    url=input(print('enter url'))\n",
    "    article_text = get_text_from_url(url)\n",
    "    news_input=[article_text]\n",
    "else:\n",
    "    print('error')\n"
   ]
  },
  {
   "cell_type": "code",
   "execution_count": 5,
   "id": "96c23954",
   "metadata": {},
   "outputs": [
    {
     "ename": "NameError",
     "evalue": "name 'text_clf' is not defined",
     "output_type": "error",
     "traceback": [
      "\u001b[31m---------------------------------------------------------------------------\u001b[39m",
      "\u001b[31mNameError\u001b[39m                                 Traceback (most recent call last)",
      "\u001b[36mCell\u001b[39m\u001b[36m \u001b[39m\u001b[32mIn[5]\u001b[39m\u001b[32m, line 1\u001b[39m\n\u001b[32m----> \u001b[39m\u001b[32m1\u001b[39m prediction = \u001b[43mtext_clf\u001b[49m.predict(news_input)\n\u001b[32m      2\u001b[39m \u001b[38;5;28;01mif\u001b[39;00m prediction== \u001b[32m0\u001b[39m:\n\u001b[32m      3\u001b[39m     \u001b[38;5;28mprint\u001b[39m(\u001b[33m\"\u001b[39m\u001b[33mThis news is REAL.\u001b[39m\u001b[33m\"\u001b[39m)\n",
      "\u001b[31mNameError\u001b[39m: name 'text_clf' is not defined"
     ]
    }
   ],
   "source": [
    "prediction = text_clf.predict(news_input)\n",
    "if prediction== 0:\n",
    "    print(\"This news is REAL.\")\n",
    "else:\n",
    "    print(\"This news is FAKE.\")"
   ]
  }
 ],
 "metadata": {
  "kernelspec": {
   "display_name": "Python 3",
   "language": "python",
   "name": "python3"
  },
  "language_info": {
   "codemirror_mode": {
    "name": "ipython",
    "version": 3
   },
   "file_extension": ".py",
   "mimetype": "text/x-python",
   "name": "python",
   "nbconvert_exporter": "python",
   "pygments_lexer": "ipython3",
   "version": "3.13.6"
  }
 },
 "nbformat": 4,
 "nbformat_minor": 5
}
